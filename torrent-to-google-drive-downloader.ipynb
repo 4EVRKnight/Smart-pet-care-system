{
  "cells": [
    {
      "cell_type": "markdown",
      "metadata": {
        "id": "view-in-github",
        "colab_type": "text"
      },
      "source": [
        "<a href=\"https://colab.research.google.com/github/4EVRKnight/Smart-pet-care-system/blob/main/torrent-to-google-drive-downloader.ipynb\" target=\"_parent\"><img src=\"https://colab.research.google.com/assets/colab-badge.svg\" alt=\"Open In Colab\"/></a>"
      ]
    },
    {
      "cell_type": "markdown",
      "metadata": {
        "id": "aQuWDmfm9YOi"
      },
      "source": [
        "# Torrent To Google Drive Downloader"
      ]
    },
    {
      "cell_type": "markdown",
      "metadata": {
        "id": "qYk44mBwJf6E"
      },
      "source": [
        "**Important Note:** To get more disk space:\n",
        "> Go to Runtime -> Change Runtime and give GPU as the Hardware Accelerator.  You will get around 384GB to download any torrent you want."
      ]
    },
    {
      "cell_type": "markdown",
      "metadata": {
        "id": "NaFa7M-e9YOr"
      },
      "source": [
        "### Install libtorrent and Initialize Session"
      ]
    },
    {
      "cell_type": "code",
      "execution_count": 3,
      "metadata": {
        "colab": {
          "base_uri": "https://localhost:8080/"
        },
        "id": "m6hF0emftx4h",
        "outputId": "0e44d2a3-3db1-43ed-bca9-5bcaf270af21"
      },
      "outputs": [
        {
          "output_type": "stream",
          "name": "stdout",
          "text": [
            "Requirement already satisfied: lbry-libtorrent in /usr/local/lib/python3.11/dist-packages (1.2.4)\n",
            "\u001b[33mWARNING: Error parsing dependencies of libtorrent: Invalid version: '2.0.5-build-libtorrent-rasterbar-qrM5vM-libtorrent-rasterbar-2.0.5-bindings-python'\u001b[0m\u001b[33m\n",
            "Reading package lists... Done\n",
            "Building dependency tree... Done\n",
            "Reading state information... Done\n",
            "python3-libtorrent is already the newest version (2.0.5-5).\n",
            "0 upgraded, 0 newly installed, 0 to remove and 20 not upgraded.\n"
          ]
        },
        {
          "output_type": "stream",
          "name": "stderr",
          "text": [
            "<frozen importlib._bootstrap>:241: RuntimeWarning: to-Python converter for std::pair<int, int> already registered; second conversion method ignored.\n",
            "<frozen importlib._bootstrap>:241: RuntimeWarning: to-Python converter for std::pair<libtorrent::aux::strong_typedef<int, libtorrent::aux::piece_index_tag, void>, libtorrent::aux::strong_typedef<unsigned char, libtorrent::download_priority_tag, void> > already registered; second conversion method ignored.\n",
            "<frozen importlib._bootstrap>:241: RuntimeWarning: to-Python converter for boost::asio::ip::basic_endpoint<boost::asio::ip::tcp> already registered; second conversion method ignored.\n",
            "<frozen importlib._bootstrap>:241: RuntimeWarning: to-Python converter for boost::asio::ip::basic_endpoint<boost::asio::ip::udp> already registered; second conversion method ignored.\n",
            "<frozen importlib._bootstrap>:241: RuntimeWarning: to-Python converter for boost::asio::ip::address already registered; second conversion method ignored.\n",
            "<frozen importlib._bootstrap>:241: RuntimeWarning: to-Python converter for std::pair<std::__cxx11::basic_string<char, std::char_traits<char>, std::allocator<char> >, int> already registered; second conversion method ignored.\n",
            "<frozen importlib._bootstrap>:241: RuntimeWarning: to-Python converter for std::vector<libtorrent::stats_metric, std::allocator<libtorrent::stats_metric> > already registered; second conversion method ignored.\n",
            "<frozen importlib._bootstrap>:241: RuntimeWarning: to-Python converter for std::vector<libtorrent::open_file_state, std::allocator<libtorrent::open_file_state> > already registered; second conversion method ignored.\n",
            "<frozen importlib._bootstrap>:241: RuntimeWarning: to-Python converter for std::vector<libtorrent::digest32<160l>, std::allocator<libtorrent::digest32<160l> > > already registered; second conversion method ignored.\n",
            "<frozen importlib._bootstrap>:241: RuntimeWarning: to-Python converter for std::vector<std::__cxx11::basic_string<char, std::char_traits<char>, std::allocator<char> >, std::allocator<std::__cxx11::basic_string<char, std::char_traits<char>, std::allocator<char> > > > already registered; second conversion method ignored.\n",
            "<frozen importlib._bootstrap>:241: RuntimeWarning: to-Python converter for std::vector<int, std::allocator<int> > already registered; second conversion method ignored.\n",
            "<frozen importlib._bootstrap>:241: RuntimeWarning: to-Python converter for std::vector<libtorrent::aux::strong_typedef<unsigned char, libtorrent::download_priority_tag, void>, std::allocator<libtorrent::aux::strong_typedef<unsigned char, libtorrent::download_priority_tag, void> > > already registered; second conversion method ignored.\n",
            "<frozen importlib._bootstrap>:241: RuntimeWarning: to-Python converter for std::vector<boost::asio::ip::basic_endpoint<boost::asio::ip::tcp>, std::allocator<boost::asio::ip::basic_endpoint<boost::asio::ip::tcp> > > already registered; second conversion method ignored.\n",
            "<frozen importlib._bootstrap>:241: RuntimeWarning: to-Python converter for std::vector<boost::asio::ip::basic_endpoint<boost::asio::ip::udp>, std::allocator<boost::asio::ip::basic_endpoint<boost::asio::ip::udp> > > already registered; second conversion method ignored.\n",
            "<frozen importlib._bootstrap>:241: RuntimeWarning: to-Python converter for std::vector<std::pair<std::__cxx11::basic_string<char, std::char_traits<char>, std::allocator<char> >, int>, std::allocator<std::pair<std::__cxx11::basic_string<char, std::char_traits<char>, std::allocator<char> >, int> > > already registered; second conversion method ignored.\n",
            "<frozen importlib._bootstrap>:241: RuntimeWarning: to-Python converter for libtorrent::typed_bitfield<libtorrent::aux::strong_typedef<int, libtorrent::aux::piece_index_tag, void> > already registered; second conversion method ignored.\n",
            "<frozen importlib._bootstrap>:241: RuntimeWarning: to-Python converter for libtorrent::bitfield already registered; second conversion method ignored.\n",
            "<frozen importlib._bootstrap>:241: RuntimeWarning: to-Python converter for libtorrent::aux::strong_typedef<int, libtorrent::queue_position_tag, void> already registered; second conversion method ignored.\n",
            "<frozen importlib._bootstrap>:241: RuntimeWarning: to-Python converter for libtorrent::aux::strong_typedef<int, libtorrent::aux::piece_index_tag, void> already registered; second conversion method ignored.\n",
            "<frozen importlib._bootstrap>:241: RuntimeWarning: to-Python converter for libtorrent::aux::strong_typedef<unsigned char, libtorrent::download_priority_tag, void> already registered; second conversion method ignored.\n",
            "<frozen importlib._bootstrap>:241: RuntimeWarning: to-Python converter for libtorrent::aux::strong_typedef<int, libtorrent::aux::file_index_tag, void> already registered; second conversion method ignored.\n",
            "<frozen importlib._bootstrap>:241: RuntimeWarning: to-Python converter for libtorrent::aux::strong_typedef<int, libtorrent::port_mapping_tag, void> already registered; second conversion method ignored.\n",
            "<frozen importlib._bootstrap>:241: RuntimeWarning: to-Python converter for libtorrent::aux::strong_typedef<unsigned int, libtorrent::peer_class_tag, void> already registered; second conversion method ignored.\n",
            "<frozen importlib._bootstrap>:241: RuntimeWarning: to-Python converter for libtorrent::flags::bitfield_flag<unsigned long, libtorrent::torrent_flags_tag, void> already registered; second conversion method ignored.\n",
            "<frozen importlib._bootstrap>:241: RuntimeWarning: to-Python converter for libtorrent::flags::bitfield_flag<unsigned int, libtorrent::peer_flags_tag, void> already registered; second conversion method ignored.\n",
            "<frozen importlib._bootstrap>:241: RuntimeWarning: to-Python converter for libtorrent::flags::bitfield_flag<unsigned char, libtorrent::peer_source_flags_tag, void> already registered; second conversion method ignored.\n",
            "<frozen importlib._bootstrap>:241: RuntimeWarning: to-Python converter for libtorrent::flags::bitfield_flag<unsigned char, libtorrent::bandwidth_state_flags_tag, void> already registered; second conversion method ignored.\n",
            "<frozen importlib._bootstrap>:241: RuntimeWarning: to-Python converter for libtorrent::flags::bitfield_flag<unsigned char, libtorrent::file_open_mode_tag, void> already registered; second conversion method ignored.\n",
            "<frozen importlib._bootstrap>:241: RuntimeWarning: to-Python converter for libtorrent::flags::bitfield_flag<unsigned int, libtorrent::picker_flags_tag, void> already registered; second conversion method ignored.\n",
            "<frozen importlib._bootstrap>:241: RuntimeWarning: to-Python converter for libtorrent::flags::bitfield_flag<unsigned int, libtorrent::status_flags_tag, void> already registered; second conversion method ignored.\n",
            "<frozen importlib._bootstrap>:241: RuntimeWarning: to-Python converter for libtorrent::flags::bitfield_flag<unsigned int, libtorrent::alert_category_tag, void> already registered; second conversion method ignored.\n",
            "<frozen importlib._bootstrap>:241: RuntimeWarning: to-Python converter for libtorrent::flags::bitfield_flag<unsigned char, libtorrent::resume_data_flags_tag, void> already registered; second conversion method ignored.\n",
            "<frozen importlib._bootstrap>:241: RuntimeWarning: to-Python converter for libtorrent::flags::bitfield_flag<unsigned char, libtorrent::add_piece_flags_tag, void> already registered; second conversion method ignored.\n",
            "<frozen importlib._bootstrap>:241: RuntimeWarning: to-Python converter for libtorrent::flags::bitfield_flag<unsigned char, libtorrent::pause_flags_tag, void> already registered; second conversion method ignored.\n",
            "<frozen importlib._bootstrap>:241: RuntimeWarning: to-Python converter for libtorrent::flags::bitfield_flag<unsigned char, libtorrent::deadline_flags_tag, void> already registered; second conversion method ignored.\n",
            "<frozen importlib._bootstrap>:241: RuntimeWarning: to-Python converter for libtorrent::flags::bitfield_flag<unsigned int, libtorrent::save_state_flags_tag, void> already registered; second conversion method ignored.\n",
            "<frozen importlib._bootstrap>:241: RuntimeWarning: to-Python converter for libtorrent::flags::bitfield_flag<unsigned char, libtorrent::session_flags_tag, void> already registered; second conversion method ignored.\n",
            "<frozen importlib._bootstrap>:241: RuntimeWarning: to-Python converter for libtorrent::flags::bitfield_flag<unsigned char, libtorrent::remove_flags_tag, void> already registered; second conversion method ignored.\n",
            "<frozen importlib._bootstrap>:241: RuntimeWarning: to-Python converter for libtorrent::flags::bitfield_flag<unsigned char, libtorrent::reopen_network_flags_tag, void> already registered; second conversion method ignored.\n",
            "<frozen importlib._bootstrap>:241: RuntimeWarning: to-Python converter for libtorrent::flags::bitfield_flag<unsigned char, libtorrent::file_flags_tag, void> already registered; second conversion method ignored.\n",
            "<frozen importlib._bootstrap>:241: RuntimeWarning: to-Python converter for libtorrent::flags::bitfield_flag<unsigned int, libtorrent::create_flags_tag, void> already registered; second conversion method ignored.\n",
            "<frozen importlib._bootstrap>:241: RuntimeWarning: to-Python converter for libtorrent::flags::bitfield_flag<unsigned char, libtorrent::pex_flags_tag, void> already registered; second conversion method ignored.\n",
            "<frozen importlib._bootstrap>:241: RuntimeWarning: to-Python converter for libtorrent::flags::bitfield_flag<unsigned char, libtorrent::reannounce_flags_tag, void> already registered; second conversion method ignored.\n",
            "<frozen importlib._bootstrap>:241: RuntimeWarning: to-Python converter for boost::basic_string_view<char, std::char_traits<char> > already registered; second conversion method ignored.\n",
            "<frozen importlib._bootstrap>:241: RuntimeWarning: to-Python converter for libtorrent::aux::noexcept_movable<boost::asio::ip::address> already registered; second conversion method ignored.\n",
            "<frozen importlib._bootstrap>:241: RuntimeWarning: to-Python converter for libtorrent::aux::noexcept_movable<boost::asio::ip::basic_endpoint<boost::asio::ip::tcp> > already registered; second conversion method ignored.\n",
            "<frozen importlib._bootstrap>:241: RuntimeWarning: to-Python converter for libtorrent::aux::noexcept_movable<boost::asio::ip::basic_endpoint<boost::asio::ip::udp> > already registered; second conversion method ignored.\n",
            "<frozen importlib._bootstrap>:241: RuntimeWarning: to-Python converter for libtorrent::aux::noexcept_movable<std::vector<libtorrent::stats_metric, std::allocator<libtorrent::stats_metric> > > already registered; second conversion method ignored.\n",
            "<frozen importlib._bootstrap>:241: RuntimeWarning: to-Python converter for libtorrent::aux::noexcept_movable<std::vector<libtorrent::open_file_state, std::allocator<libtorrent::open_file_state> > > already registered; second conversion method ignored.\n",
            "<frozen importlib._bootstrap>:241: RuntimeWarning: to-Python converter for libtorrent::aux::noexcept_movable<std::vector<libtorrent::digest32<160l>, std::allocator<libtorrent::digest32<160l> > > > already registered; second conversion method ignored.\n",
            "<frozen importlib._bootstrap>:241: RuntimeWarning: to-Python converter for libtorrent::aux::noexcept_movable<std::vector<std::__cxx11::basic_string<char, std::char_traits<char>, std::allocator<char> >, std::allocator<std::__cxx11::basic_string<char, std::char_traits<char>, std::allocator<char> > > > > already registered; second conversion method ignored.\n",
            "<frozen importlib._bootstrap>:241: RuntimeWarning: to-Python converter for libtorrent::aux::noexcept_movable<std::vector<int, std::allocator<int> > > already registered; second conversion method ignored.\n",
            "<frozen importlib._bootstrap>:241: RuntimeWarning: to-Python converter for libtorrent::aux::noexcept_movable<std::vector<libtorrent::aux::strong_typedef<unsigned char, libtorrent::download_priority_tag, void>, std::allocator<libtorrent::aux::strong_typedef<unsigned char, libtorrent::download_priority_tag, void> > > > already registered; second conversion method ignored.\n",
            "<frozen importlib._bootstrap>:241: RuntimeWarning: to-Python converter for libtorrent::aux::noexcept_movable<std::vector<boost::asio::ip::basic_endpoint<boost::asio::ip::tcp>, std::allocator<boost::asio::ip::basic_endpoint<boost::asio::ip::tcp> > > > already registered; second conversion method ignored.\n",
            "<frozen importlib._bootstrap>:241: RuntimeWarning: to-Python converter for libtorrent::aux::noexcept_movable<std::vector<boost::asio::ip::basic_endpoint<boost::asio::ip::udp>, std::allocator<boost::asio::ip::basic_endpoint<boost::asio::ip::udp> > > > already registered; second conversion method ignored.\n",
            "<frozen importlib._bootstrap>:241: RuntimeWarning: to-Python converter for libtorrent::aux::noexcept_movable<std::vector<std::pair<std::__cxx11::basic_string<char, std::char_traits<char>, std::allocator<char> >, int>, std::allocator<std::pair<std::__cxx11::basic_string<char, std::char_traits<char>, std::allocator<char> >, int> > > > already registered; second conversion method ignored.\n",
            "<frozen importlib._bootstrap>:241: RuntimeWarning: to-Python converter for libtorrent::aux::noexcept_movable<std::map<libtorrent::aux::strong_typedef<int, libtorrent::aux::piece_index_tag, void>, libtorrent::bitfield, std::less<libtorrent::aux::strong_typedef<int, libtorrent::aux::piece_index_tag, void> >, std::allocator<std::pair<libtorrent::aux::strong_typedef<int, libtorrent::aux::piece_index_tag, void> const, libtorrent::bitfield> > > > already registered; second conversion method ignored.\n",
            "<frozen importlib._bootstrap>:241: RuntimeWarning: to-Python converter for libtorrent::aux::noexcept_movable<std::map<libtorrent::aux::strong_typedef<int, libtorrent::aux::file_index_tag, void>, std::__cxx11::basic_string<char, std::char_traits<char>, std::allocator<char> >, std::less<libtorrent::aux::strong_typedef<int, libtorrent::aux::file_index_tag, void> >, std::allocator<std::pair<libtorrent::aux::strong_typedef<int, libtorrent::aux::file_index_tag, void> const, std::__cxx11::basic_string<char, std::char_traits<char>, std::allocator<char> > > > > > already registered; second conversion method ignored.\n",
            "<frozen importlib._bootstrap>:241: RuntimeWarning: to-Python converter for std::map<libtorrent::aux::strong_typedef<int, libtorrent::aux::file_index_tag, void>, std::__cxx11::basic_string<char, std::char_traits<char>, std::allocator<char> >, std::less<libtorrent::aux::strong_typedef<int, libtorrent::aux::file_index_tag, void> >, std::allocator<std::pair<libtorrent::aux::strong_typedef<int, libtorrent::aux::file_index_tag, void> const, std::__cxx11::basic_string<char, std::char_traits<char>, std::allocator<char> > > > > already registered; second conversion method ignored.\n",
            "<frozen importlib._bootstrap>:241: RuntimeWarning: to-Python converter for libtorrent::aux::noexcept_movable<std::vector<char, std::allocator<char> > > already registered; second conversion method ignored.\n",
            "<frozen importlib._bootstrap>:241: RuntimeWarning: to-Python converter for category_holder already registered; second conversion method ignored.\n",
            "<frozen importlib._bootstrap>:241: RuntimeWarning: to-Python converter for boost::system::error_code already registered; second conversion method ignored.\n",
            "<frozen importlib._bootstrap>:241: RuntimeWarning: to-Python converter for bytes already registered; second conversion method ignored.\n",
            "<frozen importlib._bootstrap>:241: RuntimeWarning: to-Python converter for libtorrent::fingerprint already registered; second conversion method ignored.\n",
            "<frozen importlib._bootstrap>:241: RuntimeWarning: to-Python converter for libtorrent::digest32<160l> already registered; second conversion method ignored.\n",
            "<frozen importlib._bootstrap>:241: RuntimeWarning: to-Python converter for std::shared_ptr<libtorrent::entry> already registered; second conversion method ignored.\n",
            "<frozen importlib._bootstrap>:241: RuntimeWarning: to-Python converter for libtorrent::entry already registered; second conversion method ignored.\n"
          ]
        }
      ],
      "source": [
        "!python -m pip install lbry-libtorrent\n",
        "!apt install python3-libtorrent\n",
        "\n",
        "import libtorrent as lt\n",
        "\n",
        "ses = lt.session()\n",
        "ses.listen_on(6881, 6891)\n",
        "downloads = []"
      ]
    },
    {
      "cell_type": "markdown",
      "metadata": {
        "id": "Uf90U73y9YOj"
      },
      "source": [
        "### Mount Google Drive\n",
        "To stream files we need to mount Google Drive."
      ]
    },
    {
      "cell_type": "code",
      "execution_count": 4,
      "metadata": {
        "colab": {
          "base_uri": "https://localhost:8080/"
        },
        "id": "oWM9l2fvtuvO",
        "outputId": "fdff34f4-b86a-4082-8073-26f845433572"
      },
      "outputs": [
        {
          "output_type": "stream",
          "name": "stdout",
          "text": [
            "Mounted at /content/drive\n"
          ]
        }
      ],
      "source": [
        "from google.colab import drive\n",
        "\n",
        "drive.mount(\"/content/drive\")"
      ]
    },
    {
      "cell_type": "markdown",
      "metadata": {
        "id": "R_1XuuIf9YOn"
      },
      "source": [
        "### Add From Torrent File\n",
        "You can run this cell to add more files as many times as you want"
      ]
    },
    {
      "cell_type": "code",
      "execution_count": null,
      "metadata": {
        "id": "0et2A6N3udA0"
      },
      "outputs": [],
      "source": [
        "from google.colab import files\n",
        "\n",
        "source = files.upload()\n",
        "params = {\n",
        "    \"save_path\": \"/content/drive/My Drive/Torrent\",\n",
        "    \"ti\": lt.torrent_info(list(source.keys())[0]),\n",
        "}\n",
        "downloads.append(ses.add_torrent(params))"
      ]
    },
    {
      "cell_type": "markdown",
      "metadata": {
        "id": "WD-6M6eZyzmj"
      },
      "source": [
        "### Add From Magnet Link\n",
        "You can run this cell to add more files as many times as you want"
      ]
    },
    {
      "cell_type": "code",
      "execution_count": 7,
      "metadata": {
        "colab": {
          "base_uri": "https://localhost:8080/"
        },
        "id": "Cwi1GMlxy3te",
        "outputId": "e12660d4-b483-46c6-8348-7d9600488e5c"
      },
      "outputs": [
        {
          "name": "stdout",
          "output_type": "stream",
          "text": [
            "Enter Magnet Link Or Type Exit: magnet:?xt=urn:btih:AF05FE89A9FE5F8B21367B07168899A2243E7081\n",
            "Enter Magnet Link Or Type Exit: exit\n"
          ]
        }
      ],
      "source": [
        "params = {\"save_path\": \"/content/drive/My Drive/Torrent\"}\n",
        "\n",
        "while True:\n",
        "    magnet_link = input(\"Enter Magnet Link Or Type Exit: \")\n",
        "    if magnet_link.lower() == \"exit\":\n",
        "        break\n",
        "    downloads.append(\n",
        "        lt.add_magnet_uri(ses, magnet_link, params)\n",
        "    )\n"
      ]
    },
    {
      "cell_type": "markdown",
      "metadata": {
        "id": "m-a1CUP39YOu"
      },
      "source": [
        "### Start Download\n",
        "Source: https://stackoverflow.com/a/5494823/7957705 and [#3 issue](https://github.com/FKLC/Torrent-To-Google-Drive-Downloader/issues/3) which refers to this [stackoverflow question](https://stackoverflow.com/a/6053350/7957705)"
      ]
    },
    {
      "cell_type": "code",
      "execution_count": null,
      "metadata": {
        "colab": {
          "base_uri": "https://localhost:8080/",
          "height": 49,
          "referenced_widgets": [
            "f4a503ca3f664705ba556f9a1e4e1d6b",
            "194f26fdb7cf496db85a8a59817caf92",
            "ee9e9871c7e04626bdea7649e870bf60"
          ]
        },
        "id": "DBNoYYoSuDBT",
        "outputId": "e39fa2f0-58c6-4c7d-ee08-fb03a6f29a04"
      },
      "outputs": [
        {
          "output_type": "display_data",
          "data": {
            "text/plain": [
              "FloatSlider(value=0.0, disabled=True, layout=Layout(width='auto'), step=0.01, style=SliderStyle(description_wi…"
            ],
            "application/vnd.jupyter.widget-view+json": {
              "version_major": 2,
              "version_minor": 0,
              "model_id": "f4a503ca3f664705ba556f9a1e4e1d6b"
            }
          },
          "metadata": {}
        }
      ],
      "source": [
        "import time\n",
        "from IPython.display import display\n",
        "import ipywidgets as widgets\n",
        "\n",
        "state_str = [\n",
        "    \"queued\",\n",
        "    \"checking\",\n",
        "    \"downloading metadata\",\n",
        "    \"downloading\",\n",
        "    \"finished\",\n",
        "    \"seeding\",\n",
        "    \"allocating\",\n",
        "    \"checking fastresume\",\n",
        "]\n",
        "\n",
        "layout = widgets.Layout(width=\"auto\")\n",
        "style = {\"description_width\": \"initial\"}\n",
        "download_bars = [\n",
        "    widgets.FloatSlider(\n",
        "        step=0.01, disabled=True, layout=layout, style=style\n",
        "    )\n",
        "    for _ in downloads\n",
        "]\n",
        "display(*download_bars)\n",
        "\n",
        "while downloads:\n",
        "    next_shift = 0\n",
        "    for index, download in enumerate(downloads[:]):\n",
        "        bar = download_bars[index + next_shift]\n",
        "        if not download.is_seed():\n",
        "            s = download.status()\n",
        "\n",
        "            bar.description = \" \".join(\n",
        "                [\n",
        "                    download.name(),\n",
        "                    str(s.download_rate / 1000),\n",
        "                    \"kB/s\",\n",
        "                    state_str[s.state],\n",
        "                ]\n",
        "            )\n",
        "            bar.value = s.progress * 100\n",
        "        else:\n",
        "            next_shift -= 1\n",
        "            ses.remove_torrent(download)\n",
        "            downloads.remove(download)\n",
        "            bar.close() # Seems to be not working in Colab (see https://github.com/googlecolab/colabtools/issues/726#issue-486731758)\n",
        "            download_bars.remove(bar)\n",
        "            print(download.name(), \"complete\")\n",
        "    time.sleep(1)\n"
      ]
    }
  ],
  "metadata": {
    "colab": {
      "name": "Torrent To Google Drive Downloader",
      "provenance": [],
      "include_colab_link": true
    },
    "kernelspec": {
      "display_name": "Python 3 (ipykernel)",
      "language": "python",
      "name": "python3"
    },
    "language_info": {
      "codemirror_mode": {
        "name": "ipython",
        "version": 3
      },
      "file_extension": ".py",
      "mimetype": "text/x-python",
      "name": "python",
      "nbconvert_exporter": "python",
      "pygments_lexer": "ipython3",
      "version": "3.9.7"
    },
    "widgets": {
      "application/vnd.jupyter.widget-state+json": {
        "f4a503ca3f664705ba556f9a1e4e1d6b": {
          "model_module": "@jupyter-widgets/controls",
          "model_name": "FloatSliderModel",
          "model_module_version": "1.5.0",
          "state": {
            "_dom_classes": [],
            "_model_module": "@jupyter-widgets/controls",
            "_model_module_version": "1.5.0",
            "_model_name": "FloatSliderModel",
            "_view_count": null,
            "_view_module": "@jupyter-widgets/controls",
            "_view_module_version": "1.5.0",
            "_view_name": "FloatSliderView",
            "continuous_update": true,
            "description": "Far Cry 4 - Gold Edition [FitGirl Repack] 7.698 kB/s checking",
            "description_tooltip": null,
            "disabled": true,
            "layout": "IPY_MODEL_194f26fdb7cf496db85a8a59817caf92",
            "max": 100,
            "min": 0,
            "orientation": "horizontal",
            "readout": true,
            "readout_format": ".2f",
            "step": 0.01,
            "style": "IPY_MODEL_ee9e9871c7e04626bdea7649e870bf60",
            "value": 56.79140090942383
          }
        },
        "194f26fdb7cf496db85a8a59817caf92": {
          "model_module": "@jupyter-widgets/base",
          "model_name": "LayoutModel",
          "model_module_version": "1.2.0",
          "state": {
            "_model_module": "@jupyter-widgets/base",
            "_model_module_version": "1.2.0",
            "_model_name": "LayoutModel",
            "_view_count": null,
            "_view_module": "@jupyter-widgets/base",
            "_view_module_version": "1.2.0",
            "_view_name": "LayoutView",
            "align_content": null,
            "align_items": null,
            "align_self": null,
            "border": null,
            "bottom": null,
            "display": null,
            "flex": null,
            "flex_flow": null,
            "grid_area": null,
            "grid_auto_columns": null,
            "grid_auto_flow": null,
            "grid_auto_rows": null,
            "grid_column": null,
            "grid_gap": null,
            "grid_row": null,
            "grid_template_areas": null,
            "grid_template_columns": null,
            "grid_template_rows": null,
            "height": null,
            "justify_content": null,
            "justify_items": null,
            "left": null,
            "margin": null,
            "max_height": null,
            "max_width": null,
            "min_height": null,
            "min_width": null,
            "object_fit": null,
            "object_position": null,
            "order": null,
            "overflow": null,
            "overflow_x": null,
            "overflow_y": null,
            "padding": null,
            "right": null,
            "top": null,
            "visibility": null,
            "width": "auto"
          }
        },
        "ee9e9871c7e04626bdea7649e870bf60": {
          "model_module": "@jupyter-widgets/controls",
          "model_name": "SliderStyleModel",
          "model_module_version": "1.5.0",
          "state": {
            "_model_module": "@jupyter-widgets/controls",
            "_model_module_version": "1.5.0",
            "_model_name": "SliderStyleModel",
            "_view_count": null,
            "_view_module": "@jupyter-widgets/base",
            "_view_module_version": "1.2.0",
            "_view_name": "StyleView",
            "description_width": "initial",
            "handle_color": null
          }
        }
      }
    }
  },
  "nbformat": 4,
  "nbformat_minor": 0
}